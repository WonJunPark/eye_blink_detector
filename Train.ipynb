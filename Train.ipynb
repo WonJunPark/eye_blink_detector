{
 "cells": [
  {
   "cell_type": "code",
   "execution_count": 1,
   "metadata": {},
   "outputs": [
    {
     "name": "stderr",
     "output_type": "stream",
     "text": [
      "Using TensorFlow backend.\n"
     ]
    }
   ],
   "source": [
    "import datetime\n",
    "import numpy as np\n",
    "import matplotlib.pyplot as plt\n",
    "from keras.layers import Input, Activation, Conv2D, Flatten, Dense, MaxPooling2D\n",
    "from keras.models import Model, load_model\n",
    "from keras.preprocessing.image import ImageDataGenerator\n",
    "from keras.callbacks import ModelCheckpoint, ReduceLROnPlateau\n",
    "plt.style.use('dark_background')"
   ]
  },
  {
   "cell_type": "code",
   "execution_count": 18,
   "metadata": {},
   "outputs": [
    {
     "name": "stdout",
     "output_type": "stream",
     "text": [
      "tensorflow version: 2.0.0\n",
      "keras version: 2.3.1\n"
     ]
    }
   ],
   "source": [
    "import tensorflow\n",
    "import keras\n",
    "print('tensorflow version:',tensorflow.__version__)\n",
    "print('keras version:',keras.__version__)"
   ]
  },
  {
   "cell_type": "code",
   "execution_count": 2,
   "metadata": {},
   "outputs": [
    {
     "name": "stdout",
     "output_type": "stream",
     "text": [
      "(2586, 26, 34, 1) (2586, 1)\n",
      "(288, 26, 34, 1) (288, 1)\n"
     ]
    }
   ],
   "source": [
    "x_train = np.load('dataset/x_train.npy').astype(np.float32)\n",
    "y_train = np.load('dataset/y_train.npy').astype(np.float32)\n",
    "x_val = np.load('dataset/x_val.npy').astype(np.float32)\n",
    "y_val = np.load('dataset/y_val.npy').astype(np.float32)\n",
    "\n",
    "print(x_train.shape, y_train.shape)\n",
    "print(x_val.shape, y_val.shape)"
   ]
  },
  {
   "cell_type": "code",
   "execution_count": 3,
   "metadata": {},
   "outputs": [
    {
     "data": {
      "text/plain": [
       "<matplotlib.image.AxesImage at 0x13b802b1be0>"
      ]
     },
     "execution_count": 3,
     "metadata": {},
     "output_type": "execute_result"
    },
    {
     "data": {
      "image/png": "[encoded data removed]",
      "text/plain": [
       "<Figure size 432x288 with 2 Axes>"
      ]
     },
     "metadata": {
      "needs_background": "dark"
     },
     "output_type": "display_data"
    }
   ],
   "source": [
    "plt.subplot(2, 1, 1)\n",
    "plt.title(str(y_train[0]))\n",
    "plt.imshow(x_train[0].reshape((26, 34)), cmap='gray')\n",
    "plt.subplot(2, 1, 2)\n",
    "plt.title(str(y_val[4]))\n",
    "plt.imshow(x_val[4].reshape((26, 34)), cmap='gray')"
   ]
  },
  {
   "cell_type": "code",
   "execution_count": 4,
   "metadata": {},
   "outputs": [],
   "source": [
    "train_datagen = ImageDataGenerator(\n",
    "    rescale=1./255,\n",
    "    rotation_range=10,\n",
    "    width_shift_range=0.2,\n",
    "    height_shift_range=0.2,\n",
    "    shear_range=0.2\n",
    ")\n",
    "\n",
    "val_datagen = ImageDataGenerator(rescale=1./255)\n",
    "\n",
    "train_generator = train_datagen.flow(\n",
    "    x=x_train, y=y_train,\n",
    "    batch_size=32,\n",
    "    shuffle=True\n",
    ")\n",
    "\n",
    "val_generator = val_datagen.flow(\n",
    "    x=x_val, y=y_val,\n",
    "    batch_size=32,\n",
    "    shuffle=False\n",
    ")"
   ]
  },
  {
   "cell_type": "code",
   "execution_count": 7,
   "metadata": {},
   "outputs": [
    {
     "name": "stdout",
     "output_type": "stream",
     "text": [
      "Model: \"model_3\"\n",
      "_________________________________________________________________\n",
      "Layer (type)                 Output Shape              Param #   \n",
      "=================================================================\n",
      "input_3 (InputLayer)         (None, 26, 34, 1)         0         \n",
      "_________________________________________________________________\n",
      "conv2d_7 (Conv2D)            (None, 26, 34, 32)        320       \n",
      "_________________________________________________________________\n",
      "max_pooling2d_7 (MaxPooling2 (None, 13, 17, 32)        0         \n",
      "_________________________________________________________________\n",
      "conv2d_8 (Conv2D)            (None, 13, 17, 64)        18496     \n",
      "_________________________________________________________________\n",
      "max_pooling2d_8 (MaxPooling2 (None, 6, 8, 64)          0         \n",
      "_________________________________________________________________\n",
      "conv2d_9 (Conv2D)            (None, 6, 8, 128)         73856     \n",
      "_________________________________________________________________\n",
      "max_pooling2d_9 (MaxPooling2 (None, 3, 4, 128)         0         \n",
      "_________________________________________________________________\n",
      "flatten_3 (Flatten)          (None, 1536)              0         \n",
      "_________________________________________________________________\n",
      "dense_5 (Dense)              (None, 512)               786944    \n",
      "_________________________________________________________________\n",
      "activation_5 (Activation)    (None, 512)               0         \n",
      "_________________________________________________________________\n",
      "dense_6 (Dense)              (None, 1)                 513       \n",
      "_________________________________________________________________\n",
      "activation_6 (Activation)    (None, 1)                 0         \n",
      "=================================================================\n",
      "Total params: 880,129\n",
      "Trainable params: 880,129\n",
      "Non-trainable params: 0\n",
      "_________________________________________________________________\n"
     ]
    }
   ],
   "source": [
    "inputs = Input(shape=(26, 34, 1))\n",
    "\n",
    "net = Conv2D(32, kernel_size=3, strides=1, padding='same', activation='relu')(inputs)\n",
    "net = MaxPooling2D(pool_size=2)(net)\n",
    "\n",
    "net = Conv2D(64, kernel_size=3, strides=1, padding='same', activation='relu')(net)\n",
    "net = MaxPooling2D(pool_size=2)(net)\n",
    "\n",
    "net = Conv2D(128, kernel_size=3, strides=1, padding='same', activation='relu')(net)\n",
    "net = MaxPooling2D(pool_size=2)(net)\n",
    "\n",
    "net = Flatten()(net)\n",
    "\n",
    "net = Dense(512)(net)\n",
    "net = Activation('relu')(net)\n",
    "net = Dense(1)(net)\n",
    "outputs = Activation('sigmoid')(net)\n",
    "\n",
    "model = Model(inputs=inputs, outputs=outputs)\n",
    "\n",
    "model.compile(optimizer='adam', loss='binary_crossentropy', metrics=['acc'])\n",
    "\n",
    "model.summary()"
   ]
  },
  {
   "cell_type": "code",
   "execution_count": 13,
   "metadata": {
    "scrolled": true
   },
   "outputs": [
    {
     "name": "stdout",
     "output_type": "stream",
     "text": [
      "Epoch 1/50\n",
      "81/81 [==============================] - 6s 78ms/step - loss: 0.4840 - acc: 0.7544 - val_loss: 0.3231 - val_acc: 0.8924\n",
      "\n",
      "Epoch 00001: val_acc improved from -inf to 0.89236, saving model to models/2020_04_12_16_28_27.h5\n",
      "Epoch 2/50\n",
      "81/81 [==============================] - 5s 66ms/step - loss: 0.2775 - acc: 0.8848 - val_loss: 0.1512 - val_acc: 0.9410\n",
      "\n",
      "Epoch 00002: val_acc improved from 0.89236 to 0.94097, saving model to models/2020_04_12_16_28_27.h5\n",
      "Epoch 3/50\n",
      "81/81 [==============================] - 5s 59ms/step - loss: 0.1914 - acc: 0.9300 - val_loss: 0.1678 - val_acc: 0.9479\n",
      "\n",
      "Epoch 00003: val_acc improved from 0.94097 to 0.94792, saving model to models/2020_04_12_16_28_27.h5\n",
      "Epoch 4/50\n",
      "81/81 [==============================] - 5s 60ms/step - loss: 0.1413 - acc: 0.9455 - val_loss: 0.1186 - val_acc: 0.9653\n",
      "\n",
      "Epoch 00004: val_acc improved from 0.94792 to 0.96528, saving model to models/2020_04_12_16_28_27.h5\n",
      "Epoch 5/50\n",
      "81/81 [==============================] - 5s 60ms/step - loss: 0.1240 - acc: 0.9586 - val_loss: 0.1655 - val_acc: 0.9722\n",
      "\n",
      "Epoch 00005: val_acc improved from 0.96528 to 0.97222, saving model to models/2020_04_12_16_28_27.h5\n",
      "Epoch 6/50\n",
      "81/81 [==============================] - 6s 69ms/step - loss: 0.1167 - acc: 0.9606 - val_loss: 0.1077 - val_acc: 0.9722\n",
      "\n",
      "Epoch 00006: val_acc did not improve from 0.97222\n",
      "Epoch 7/50\n",
      "81/81 [==============================] - 5s 61ms/step - loss: 0.0918 - acc: 0.9687 - val_loss: 0.1209 - val_acc: 0.9722\n",
      "\n",
      "Epoch 00007: val_acc did not improve from 0.97222\n",
      "Epoch 8/50\n",
      "81/81 [==============================] - 5s 64ms/step - loss: 0.0788 - acc: 0.9725 - val_loss: 0.0585 - val_acc: 0.9896\n",
      "\n",
      "Epoch 00008: val_acc improved from 0.97222 to 0.98958, saving model to models/2020_04_12_16_28_27.h5\n",
      "Epoch 9/50\n",
      "81/81 [==============================] - 6s 80ms/step - loss: 0.0693 - acc: 0.9737 - val_loss: 0.0645 - val_acc: 0.9792\n",
      "\n",
      "Epoch 00009: val_acc did not improve from 0.98958\n",
      "Epoch 10/50\n",
      "81/81 [==============================] - 5s 63ms/step - loss: 0.0636 - acc: 0.9787 - val_loss: 0.0462 - val_acc: 0.9896\n",
      "\n",
      "Epoch 00010: val_acc did not improve from 0.98958\n",
      "Epoch 11/50\n",
      "81/81 [==============================] - 5s 62ms/step - loss: 0.0570 - acc: 0.9799 - val_loss: 0.0368 - val_acc: 0.9896\n",
      "\n",
      "Epoch 00011: val_acc did not improve from 0.98958\n",
      "Epoch 12/50\n",
      "81/81 [==============================] - 5s 62ms/step - loss: 0.0587 - acc: 0.9814 - val_loss: 0.0333 - val_acc: 0.9965\n",
      "\n",
      "Epoch 00012: val_acc improved from 0.98958 to 0.99653, saving model to models/2020_04_12_16_28_27.h5\n",
      "Epoch 13/50\n",
      "81/81 [==============================] - 5s 64ms/step - loss: 0.0489 - acc: 0.9841 - val_loss: 0.0209 - val_acc: 0.9931\n",
      "\n",
      "Epoch 00013: val_acc did not improve from 0.99653\n",
      "Epoch 14/50\n",
      "81/81 [==============================] - 5s 66ms/step - loss: 0.0564 - acc: 0.9791 - val_loss: 0.0292 - val_acc: 0.9896\n",
      "\n",
      "Epoch 00014: val_acc did not improve from 0.99653\n",
      "Epoch 15/50\n",
      "81/81 [==============================] - 6s 75ms/step - loss: 0.0480 - acc: 0.9838 - val_loss: 0.0435 - val_acc: 0.9896\n",
      "\n",
      "Epoch 00015: val_acc did not improve from 0.99653\n",
      "Epoch 16/50\n",
      "81/81 [==============================] - 7s 86ms/step - loss: 0.0400 - acc: 0.9857 - val_loss: 0.0253 - val_acc: 0.9896\n",
      "\n",
      "Epoch 00016: val_acc did not improve from 0.99653\n",
      "Epoch 17/50\n",
      "81/81 [==============================] - 6s 77ms/step - loss: 0.0427 - acc: 0.9865 - val_loss: 0.0223 - val_acc: 0.9965\n",
      "\n",
      "Epoch 00017: val_acc did not improve from 0.99653\n",
      "Epoch 18/50\n",
      "81/81 [==============================] - 6s 76ms/step - loss: 0.0332 - acc: 0.9903 - val_loss: 0.0368 - val_acc: 0.9896\n",
      "\n",
      "Epoch 00018: val_acc did not improve from 0.99653\n",
      "Epoch 19/50\n",
      "81/81 [==============================] - 6s 73ms/step - loss: 0.0359 - acc: 0.9888 - val_loss: 0.0229 - val_acc: 0.9965\n",
      "\n",
      "Epoch 00019: val_acc did not improve from 0.99653\n",
      "Epoch 20/50\n",
      "81/81 [==============================] - 5s 67ms/step - loss: 0.0248 - acc: 0.9915 - val_loss: 0.0106 - val_acc: 0.9965\n",
      "\n",
      "Epoch 00020: val_acc did not improve from 0.99653\n",
      "Epoch 21/50\n",
      "81/81 [==============================] - 5s 66ms/step - loss: 0.0289 - acc: 0.9911 - val_loss: 0.0231 - val_acc: 0.9896\n",
      "\n",
      "Epoch 00021: val_acc did not improve from 0.99653\n",
      "Epoch 22/50\n",
      "81/81 [==============================] - 5s 65ms/step - loss: 0.0301 - acc: 0.9911 - val_loss: 0.0682 - val_acc: 0.9896\n",
      "\n",
      "Epoch 00022: val_acc did not improve from 0.99653\n",
      "\n",
      "Epoch 00022: ReduceLROnPlateau reducing learning rate to 0.00020000000949949026.\n",
      "Epoch 23/50\n",
      "81/81 [==============================] - 6s 76ms/step - loss: 0.0180 - acc: 0.9934 - val_loss: 0.0145 - val_acc: 0.9965\n",
      "\n",
      "Epoch 00023: val_acc did not improve from 0.99653\n",
      "Epoch 24/50\n",
      "81/81 [==============================] - 7s 86ms/step - loss: 0.0191 - acc: 0.9927 - val_loss: 0.0064 - val_acc: 0.9965\n",
      "\n",
      "Epoch 00024: val_acc did not improve from 0.99653\n",
      "Epoch 25/50\n",
      "81/81 [==============================] - ETA: 0s - loss: 0.0145 - acc: 0.993 - 5s 67ms/step - loss: 0.0144 - acc: 0.9934 - val_loss: 0.0081 - val_acc: 0.9931\n",
      "\n",
      "Epoch 00025: val_acc did not improve from 0.99653\n",
      "Epoch 26/50\n",
      "81/81 [==============================] - 5s 66ms/step - loss: 0.0111 - acc: 0.9965 - val_loss: 0.0147 - val_acc: 0.9965\n",
      "\n",
      "Epoch 00026: val_acc did not improve from 0.99653\n",
      "Epoch 27/50\n",
      "81/81 [==============================] - 6s 68ms/step - loss: 0.0114 - acc: 0.9961 - val_loss: 0.0097 - val_acc: 0.9931\n",
      "\n",
      "Epoch 00027: val_acc did not improve from 0.99653\n",
      "Epoch 28/50\n",
      "81/81 [==============================] - 6s 68ms/step - loss: 0.0124 - acc: 0.9961 - val_loss: 0.0066 - val_acc: 0.9965\n",
      "\n",
      "Epoch 00028: val_acc did not improve from 0.99653\n",
      "Epoch 29/50\n",
      "81/81 [==============================] - 6s 69ms/step - loss: 0.0090 - acc: 0.9981 - val_loss: 0.0071 - val_acc: 0.9965\n",
      "\n",
      "Epoch 00029: val_acc did not improve from 0.99653\n",
      "Epoch 30/50\n",
      "81/81 [==============================] - 6s 76ms/step - loss: 0.0092 - acc: 0.9973 - val_loss: 0.0055 - val_acc: 0.9965\n",
      "\n",
      "Epoch 00030: val_acc did not improve from 0.99653\n",
      "Epoch 31/50\n",
      "81/81 [==============================] - 6s 73ms/step - loss: 0.0138 - acc: 0.9954 - val_loss: 0.0133 - val_acc: 0.9931\n",
      "\n",
      "Epoch 00031: val_acc did not improve from 0.99653\n",
      "Epoch 32/50\n",
      "81/81 [==============================] - 6s 79ms/step - loss: 0.0135 - acc: 0.9942 - val_loss: 0.0056 - val_acc: 0.9965\n",
      "\n",
      "Epoch 00032: val_acc did not improve from 0.99653\n",
      "\n",
      "Epoch 00032: ReduceLROnPlateau reducing learning rate to 4.0000001899898055e-05.\n",
      "Epoch 33/50\n",
      "81/81 [==============================] - 5s 63ms/step - loss: 0.0106 - acc: 0.9973 - val_loss: 0.0037 - val_acc: 0.9965\n",
      "\n",
      "Epoch 00033: val_acc did not improve from 0.99653\n",
      "Epoch 34/50\n",
      "81/81 [==============================] - 5s 62ms/step - loss: 0.0068 - acc: 0.9985 - val_loss: 0.0028 - val_acc: 0.9965\n",
      "\n",
      "Epoch 00034: val_acc did not improve from 0.99653\n",
      "Epoch 35/50\n",
      "81/81 [==============================] - 5s 61ms/step - loss: 0.0079 - acc: 0.9977 - val_loss: 0.0037 - val_acc: 0.9965\n",
      "\n",
      "Epoch 00035: val_acc did not improve from 0.99653\n",
      "Epoch 36/50\n",
      "81/81 [==============================] - 5s 61ms/step - loss: 0.0097 - acc: 0.9954 - val_loss: 0.0028 - val_acc: 0.9965\n",
      "\n",
      "Epoch 00036: val_acc did not improve from 0.99653\n",
      "Epoch 37/50\n",
      "81/81 [==============================] - 5s 61ms/step - loss: 0.0063 - acc: 0.9988 - val_loss: 0.0034 - val_acc: 0.9965\n",
      "\n",
      "Epoch 00037: val_acc did not improve from 0.99653\n",
      "Epoch 38/50\n",
      "81/81 [==============================] - 5s 61ms/step - loss: 0.0088 - acc: 0.9969 - val_loss: 0.0033 - val_acc: 0.9965\n",
      "\n",
      "Epoch 00038: val_acc did not improve from 0.99653\n",
      "Epoch 39/50\n",
      "81/81 [==============================] - 5s 61ms/step - loss: 0.0085 - acc: 0.9977 - val_loss: 0.0035 - val_acc: 0.9965\n",
      "\n",
      "Epoch 00039: val_acc did not improve from 0.99653\n",
      "Epoch 40/50\n",
      "81/81 [==============================] - 5s 61ms/step - loss: 0.0096 - acc: 0.9961 - val_loss: 0.0026 - val_acc: 0.9965\n",
      "\n",
      "Epoch 00040: val_acc did not improve from 0.99653\n",
      "Epoch 41/50\n",
      "81/81 [==============================] - 5s 61ms/step - loss: 0.0067 - acc: 0.9985 - val_loss: 0.0036 - val_acc: 0.9965\n",
      "\n",
      "Epoch 00041: val_acc did not improve from 0.99653\n",
      "Epoch 42/50\n",
      "81/81 [==============================] - 5s 61ms/step - loss: 0.0075 - acc: 0.9977 - val_loss: 0.0028 - val_acc: 0.9965\n",
      "\n",
      "Epoch 00042: val_acc did not improve from 0.99653\n",
      "\n",
      "Epoch 00042: ReduceLROnPlateau reducing learning rate to 1e-05.\n",
      "Epoch 43/50\n"
     ]
    },
    {
     "name": "stdout",
     "output_type": "stream",
     "text": [
      "81/81 [==============================] - 5s 60ms/step - loss: 0.0068 - acc: 0.9985 - val_loss: 0.0032 - val_acc: 0.9965\n",
      "\n",
      "Epoch 00043: val_acc did not improve from 0.99653\n",
      "Epoch 44/50\n",
      "81/81 [==============================] - 5s 59ms/step - loss: 0.0059 - acc: 0.9988 - val_loss: 0.0029 - val_acc: 0.9965\n",
      "\n",
      "Epoch 00044: val_acc did not improve from 0.99653\n",
      "Epoch 45/50\n",
      "81/81 [==============================] - 5s 60ms/step - loss: 0.0083 - acc: 0.9977 - val_loss: 0.0037 - val_acc: 0.9965\n",
      "\n",
      "Epoch 00045: val_acc did not improve from 0.99653\n",
      "Epoch 46/50\n",
      "81/81 [==============================] - 5s 60ms/step - loss: 0.0069 - acc: 0.9973 - val_loss: 0.0038 - val_acc: 0.9965\n",
      "\n",
      "Epoch 00046: val_acc did not improve from 0.99653\n",
      "Epoch 47/50\n",
      "81/81 [==============================] - 5s 60ms/step - loss: 0.0072 - acc: 0.9973 - val_loss: 0.0030 - val_acc: 0.9965\n",
      "\n",
      "Epoch 00047: val_acc did not improve from 0.99653\n",
      "Epoch 48/50\n",
      "81/81 [==============================] - 5s 60ms/step - loss: 0.0072 - acc: 0.9981 - val_loss: 0.0028 - val_acc: 0.9965\n",
      "\n",
      "Epoch 00048: val_acc did not improve from 0.99653\n",
      "Epoch 49/50\n",
      "81/81 [==============================] - 5s 60ms/step - loss: 0.0101 - acc: 0.9961 - val_loss: 0.0030 - val_acc: 0.9965\n",
      "\n",
      "Epoch 00049: val_acc did not improve from 0.99653\n",
      "Epoch 50/50\n",
      "81/81 [==============================] - 5s 61ms/step - loss: 0.0077 - acc: 0.9985 - val_loss: 0.0035 - val_acc: 0.9965\n",
      "\n",
      "Epoch 00050: val_acc did not improve from 0.99653\n"
     ]
    },
    {
     "data": {
      "text/plain": [
       "<keras.callbacks.callbacks.History at 0x13b81e0d4e0>"
      ]
     },
     "execution_count": 13,
     "metadata": {},
     "output_type": "execute_result"
    }
   ],
   "source": [
    "start_time = datetime.datetime.now().strftime('%Y_%m_%d_%H_%M_%S')\n",
    "\n",
    "model.fit_generator(\n",
    "    train_generator, epochs=50, validation_data=val_generator,\n",
    "    callbacks=[\n",
    "        ModelCheckpoint('models/%s.h5' % (start_time), monitor='val_acc', save_best_only=True, mode='max', verbose=1),\n",
    "        ReduceLROnPlateau(monitor='val_acc', factor=0.2, patience=10, verbose=1, mode='auto', min_lr=1e-05)\n",
    "    ]\n",
    ")"
   ]
  },
  {
   "cell_type": "code",
   "execution_count": 14,
   "metadata": {},
   "outputs": [
    {
     "name": "stdout",
     "output_type": "stream",
     "text": [
      "test acc: 0.9965277777777778\n"
     ]
    },
    {
     "data": {
      "text/plain": [
       "<matplotlib.axes._subplots.AxesSubplot at 0x13b852d5a58>"
      ]
     },
     "execution_count": 14,
     "metadata": {},
     "output_type": "execute_result"
    },
    {
     "data": {
      "image/png": "[encoded data removed]",
      "text/plain": [
       "<Figure size 432x288 with 2 Axes>"
      ]
     },
     "metadata": {
      "needs_background": "dark"
     },
     "output_type": "display_data"
    }
   ],
   "source": [
    "from sklearn.metrics import accuracy_score, confusion_matrix\n",
    "import seaborn as sns\n",
    "\n",
    "model = load_model('models/%s.h5' % (start_time))\n",
    "\n",
    "y_pred = model.predict(x_val/255.)\n",
    "y_pred_logical = (y_pred > 0.5).astype(np.int)\n",
    "\n",
    "print ('test acc: %s' % accuracy_score(y_val, y_pred_logical))\n",
    "cm = confusion_matrix(y_val, y_pred_logical)\n",
    "sns.heatmap(cm, annot=True)"
   ]
  },
  {
   "cell_type": "code",
   "execution_count": 15,
   "metadata": {},
   "outputs": [
    {
     "data": {
      "image/png": "[encoded data removed]",
      "text/plain": [
       "<Figure size 432x288 with 1 Axes>"
      ]
     },
     "metadata": {
      "needs_background": "dark"
     },
     "output_type": "display_data"
    }
   ],
   "source": [
    "ax = sns.distplot(y_pred, kde=False)"
   ]
  },
  {
   "cell_type": "code",
   "execution_count": null,
   "metadata": {},
   "outputs": [],
   "source": []
  }
 ],
 "metadata": {
  "kernelspec": {
   "display_name": "Python 3",
   "language": "python",
   "name": "python3"
  },
  "language_info": {
   "codemirror_mode": {
    "name": "ipython",
    "version": 3
   },
   "file_extension": ".py",
   "mimetype": "text/x-python",
   "name": "python",
   "nbconvert_exporter": "python",
   "pygments_lexer": "ipython3",
   "version": "3.6.9"
  }
 },
 "nbformat": 4,
 "nbformat_minor": 2
}
